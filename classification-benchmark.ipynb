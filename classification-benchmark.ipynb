{
 "cells": [
  {
   "cell_type": "code",
   "execution_count": 395,
   "metadata": {},
   "outputs": [],
   "source": [
    "import numpy as np\n",
    "import matplotlib.pyplot as plt\n",
    "import pandas as pd\n",
    "from sklearn import metrics\n",
    "from sklearn.preprocessing import LabelEncoder"
   ]
  },
  {
   "cell_type": "code",
   "execution_count": 396,
   "metadata": {},
   "outputs": [
    {
     "data": {
      "text/html": [
       "<div>\n",
       "<style scoped>\n",
       "    .dataframe tbody tr th:only-of-type {\n",
       "        vertical-align: middle;\n",
       "    }\n",
       "\n",
       "    .dataframe tbody tr th {\n",
       "        vertical-align: top;\n",
       "    }\n",
       "\n",
       "    .dataframe thead th {\n",
       "        text-align: right;\n",
       "    }\n",
       "</style>\n",
       "<table border=\"1\" class=\"dataframe\">\n",
       "  <thead>\n",
       "    <tr style=\"text-align: right;\">\n",
       "      <th></th>\n",
       "      <th>Education</th>\n",
       "      <th>JoiningYear</th>\n",
       "      <th>City</th>\n",
       "      <th>PaymentTier</th>\n",
       "      <th>Age</th>\n",
       "      <th>Gender</th>\n",
       "      <th>EverBenched</th>\n",
       "      <th>ExperienceInCurrentDomain</th>\n",
       "      <th>LeaveOrNot</th>\n",
       "    </tr>\n",
       "  </thead>\n",
       "  <tbody>\n",
       "    <tr>\n",
       "      <th>0</th>\n",
       "      <td>Bachelors</td>\n",
       "      <td>2017</td>\n",
       "      <td>Bangalore</td>\n",
       "      <td>3</td>\n",
       "      <td>34</td>\n",
       "      <td>Male</td>\n",
       "      <td>No</td>\n",
       "      <td>0</td>\n",
       "      <td>0</td>\n",
       "    </tr>\n",
       "    <tr>\n",
       "      <th>1</th>\n",
       "      <td>Bachelors</td>\n",
       "      <td>2013</td>\n",
       "      <td>Pune</td>\n",
       "      <td>1</td>\n",
       "      <td>28</td>\n",
       "      <td>Female</td>\n",
       "      <td>No</td>\n",
       "      <td>3</td>\n",
       "      <td>1</td>\n",
       "    </tr>\n",
       "    <tr>\n",
       "      <th>2</th>\n",
       "      <td>Bachelors</td>\n",
       "      <td>2014</td>\n",
       "      <td>New Delhi</td>\n",
       "      <td>3</td>\n",
       "      <td>38</td>\n",
       "      <td>Female</td>\n",
       "      <td>No</td>\n",
       "      <td>2</td>\n",
       "      <td>0</td>\n",
       "    </tr>\n",
       "    <tr>\n",
       "      <th>3</th>\n",
       "      <td>Masters</td>\n",
       "      <td>2016</td>\n",
       "      <td>Bangalore</td>\n",
       "      <td>3</td>\n",
       "      <td>27</td>\n",
       "      <td>Male</td>\n",
       "      <td>No</td>\n",
       "      <td>5</td>\n",
       "      <td>1</td>\n",
       "    </tr>\n",
       "    <tr>\n",
       "      <th>4</th>\n",
       "      <td>Masters</td>\n",
       "      <td>2017</td>\n",
       "      <td>Pune</td>\n",
       "      <td>3</td>\n",
       "      <td>24</td>\n",
       "      <td>Male</td>\n",
       "      <td>Yes</td>\n",
       "      <td>2</td>\n",
       "      <td>1</td>\n",
       "    </tr>\n",
       "  </tbody>\n",
       "</table>\n",
       "</div>"
      ],
      "text/plain": [
       "   Education  JoiningYear       City  PaymentTier  Age  Gender EverBenched  \\\n",
       "0  Bachelors         2017  Bangalore            3   34    Male          No   \n",
       "1  Bachelors         2013       Pune            1   28  Female          No   \n",
       "2  Bachelors         2014  New Delhi            3   38  Female          No   \n",
       "3    Masters         2016  Bangalore            3   27    Male          No   \n",
       "4    Masters         2017       Pune            3   24    Male         Yes   \n",
       "\n",
       "   ExperienceInCurrentDomain  LeaveOrNot  \n",
       "0                          0           0  \n",
       "1                          3           1  \n",
       "2                          2           0  \n",
       "3                          5           1  \n",
       "4                          2           1  "
      ]
     },
     "execution_count": 396,
     "metadata": {},
     "output_type": "execute_result"
    }
   ],
   "source": [
    "df = pd.read_csv('employee.csv')\n",
    "df.head(5)"
   ]
  },
  {
   "cell_type": "code",
   "execution_count": 397,
   "metadata": {},
   "outputs": [
    {
     "name": "stdout",
     "output_type": "stream",
     "text": [
      "['Bachelors' 'Masters' 'PHD']\n",
      "['Bangalore' 'New Delhi' 'Pune']\n",
      "['Female' 'Male']\n",
      "['No' 'Yes']\n"
     ]
    }
   ],
   "source": [
    "print(np.unique(df['Education']))\n",
    "print(np.unique(df['City']))\n",
    "print(np.unique(df['Gender']))\n",
    "print(np.unique(df['EverBenched']))"
   ]
  },
  {
   "cell_type": "code",
   "execution_count": 398,
   "metadata": {},
   "outputs": [],
   "source": [
    "educationMapping = {'Bachelors': 1, 'Masters': 2, 'PHD': 3}\n",
    "cityMapping = {'Bangalore': 1, 'New Delhi': 2, 'Pune': 3}\n",
    "genderMapping = {'Male': 1, 'Female': 2}\n",
    "everBenchedMapping = {'No': 1, 'Yes': 2}\n",
    "\n",
    "df['Education'] = df['Education'].map(educationMapping)\n",
    "df['City'] = df['City'].map(cityMapping)\n",
    "df['Gender'] = df['Gender'].map(genderMapping)\n",
    "df['EverBenched'] = df['EverBenched'].map(everBenchedMapping)"
   ]
  },
  {
   "cell_type": "code",
   "execution_count": 399,
   "metadata": {},
   "outputs": [
    {
     "data": {
      "text/html": [
       "<div>\n",
       "<style scoped>\n",
       "    .dataframe tbody tr th:only-of-type {\n",
       "        vertical-align: middle;\n",
       "    }\n",
       "\n",
       "    .dataframe tbody tr th {\n",
       "        vertical-align: top;\n",
       "    }\n",
       "\n",
       "    .dataframe thead th {\n",
       "        text-align: right;\n",
       "    }\n",
       "</style>\n",
       "<table border=\"1\" class=\"dataframe\">\n",
       "  <thead>\n",
       "    <tr style=\"text-align: right;\">\n",
       "      <th></th>\n",
       "      <th>Education</th>\n",
       "      <th>JoiningYear</th>\n",
       "      <th>City</th>\n",
       "      <th>PaymentTier</th>\n",
       "      <th>Age</th>\n",
       "      <th>Gender</th>\n",
       "      <th>EverBenched</th>\n",
       "      <th>ExperienceInCurrentDomain</th>\n",
       "      <th>LeaveOrNot</th>\n",
       "    </tr>\n",
       "  </thead>\n",
       "  <tbody>\n",
       "    <tr>\n",
       "      <th>0</th>\n",
       "      <td>1</td>\n",
       "      <td>2017</td>\n",
       "      <td>1</td>\n",
       "      <td>3</td>\n",
       "      <td>34</td>\n",
       "      <td>1</td>\n",
       "      <td>1</td>\n",
       "      <td>0</td>\n",
       "      <td>0</td>\n",
       "    </tr>\n",
       "    <tr>\n",
       "      <th>1</th>\n",
       "      <td>1</td>\n",
       "      <td>2013</td>\n",
       "      <td>3</td>\n",
       "      <td>1</td>\n",
       "      <td>28</td>\n",
       "      <td>2</td>\n",
       "      <td>1</td>\n",
       "      <td>3</td>\n",
       "      <td>1</td>\n",
       "    </tr>\n",
       "    <tr>\n",
       "      <th>2</th>\n",
       "      <td>1</td>\n",
       "      <td>2014</td>\n",
       "      <td>2</td>\n",
       "      <td>3</td>\n",
       "      <td>38</td>\n",
       "      <td>2</td>\n",
       "      <td>1</td>\n",
       "      <td>2</td>\n",
       "      <td>0</td>\n",
       "    </tr>\n",
       "    <tr>\n",
       "      <th>3</th>\n",
       "      <td>2</td>\n",
       "      <td>2016</td>\n",
       "      <td>1</td>\n",
       "      <td>3</td>\n",
       "      <td>27</td>\n",
       "      <td>1</td>\n",
       "      <td>1</td>\n",
       "      <td>5</td>\n",
       "      <td>1</td>\n",
       "    </tr>\n",
       "    <tr>\n",
       "      <th>4</th>\n",
       "      <td>2</td>\n",
       "      <td>2017</td>\n",
       "      <td>3</td>\n",
       "      <td>3</td>\n",
       "      <td>24</td>\n",
       "      <td>1</td>\n",
       "      <td>2</td>\n",
       "      <td>2</td>\n",
       "      <td>1</td>\n",
       "    </tr>\n",
       "    <tr>\n",
       "      <th>5</th>\n",
       "      <td>1</td>\n",
       "      <td>2016</td>\n",
       "      <td>1</td>\n",
       "      <td>3</td>\n",
       "      <td>22</td>\n",
       "      <td>1</td>\n",
       "      <td>1</td>\n",
       "      <td>0</td>\n",
       "      <td>0</td>\n",
       "    </tr>\n",
       "    <tr>\n",
       "      <th>6</th>\n",
       "      <td>1</td>\n",
       "      <td>2015</td>\n",
       "      <td>2</td>\n",
       "      <td>3</td>\n",
       "      <td>38</td>\n",
       "      <td>1</td>\n",
       "      <td>1</td>\n",
       "      <td>0</td>\n",
       "      <td>0</td>\n",
       "    </tr>\n",
       "    <tr>\n",
       "      <th>7</th>\n",
       "      <td>1</td>\n",
       "      <td>2016</td>\n",
       "      <td>1</td>\n",
       "      <td>3</td>\n",
       "      <td>34</td>\n",
       "      <td>2</td>\n",
       "      <td>1</td>\n",
       "      <td>2</td>\n",
       "      <td>1</td>\n",
       "    </tr>\n",
       "    <tr>\n",
       "      <th>8</th>\n",
       "      <td>1</td>\n",
       "      <td>2016</td>\n",
       "      <td>3</td>\n",
       "      <td>3</td>\n",
       "      <td>23</td>\n",
       "      <td>1</td>\n",
       "      <td>1</td>\n",
       "      <td>1</td>\n",
       "      <td>0</td>\n",
       "    </tr>\n",
       "    <tr>\n",
       "      <th>9</th>\n",
       "      <td>2</td>\n",
       "      <td>2017</td>\n",
       "      <td>2</td>\n",
       "      <td>2</td>\n",
       "      <td>37</td>\n",
       "      <td>1</td>\n",
       "      <td>1</td>\n",
       "      <td>2</td>\n",
       "      <td>0</td>\n",
       "    </tr>\n",
       "  </tbody>\n",
       "</table>\n",
       "</div>"
      ],
      "text/plain": [
       "   Education  JoiningYear  City  PaymentTier  Age  Gender  EverBenched  \\\n",
       "0          1         2017     1            3   34       1            1   \n",
       "1          1         2013     3            1   28       2            1   \n",
       "2          1         2014     2            3   38       2            1   \n",
       "3          2         2016     1            3   27       1            1   \n",
       "4          2         2017     3            3   24       1            2   \n",
       "5          1         2016     1            3   22       1            1   \n",
       "6          1         2015     2            3   38       1            1   \n",
       "7          1         2016     1            3   34       2            1   \n",
       "8          1         2016     3            3   23       1            1   \n",
       "9          2         2017     2            2   37       1            1   \n",
       "\n",
       "   ExperienceInCurrentDomain  LeaveOrNot  \n",
       "0                          0           0  \n",
       "1                          3           1  \n",
       "2                          2           0  \n",
       "3                          5           1  \n",
       "4                          2           1  \n",
       "5                          0           0  \n",
       "6                          0           0  \n",
       "7                          2           1  \n",
       "8                          1           0  \n",
       "9                          2           0  "
      ]
     },
     "execution_count": 399,
     "metadata": {},
     "output_type": "execute_result"
    }
   ],
   "source": [
    "df.head(10)"
   ]
  },
  {
   "cell_type": "code",
   "execution_count": 400,
   "metadata": {},
   "outputs": [
    {
     "name": "stdout",
     "output_type": "stream",
     "text": [
      "<class 'pandas.core.frame.DataFrame'>\n",
      "RangeIndex: 4653 entries, 0 to 4652\n",
      "Data columns (total 9 columns):\n",
      " #   Column                     Non-Null Count  Dtype\n",
      "---  ------                     --------------  -----\n",
      " 0   Education                  4653 non-null   int64\n",
      " 1   JoiningYear                4653 non-null   int64\n",
      " 2   City                       4653 non-null   int64\n",
      " 3   PaymentTier                4653 non-null   int64\n",
      " 4   Age                        4653 non-null   int64\n",
      " 5   Gender                     4653 non-null   int64\n",
      " 6   EverBenched                4653 non-null   int64\n",
      " 7   ExperienceInCurrentDomain  4653 non-null   int64\n",
      " 8   LeaveOrNot                 4653 non-null   int64\n",
      "dtypes: int64(9)\n",
      "memory usage: 327.3 KB\n"
     ]
    }
   ],
   "source": [
    "df.info()"
   ]
  },
  {
   "cell_type": "code",
   "execution_count": 401,
   "metadata": {},
   "outputs": [
    {
     "data": {
      "image/png": "[encoded data removed]",
      "text/plain": [
       "<Figure size 640x480 with 1 Axes>"
      ]
     },
     "metadata": {},
     "output_type": "display_data"
    }
   ],
   "source": [
    "plt.title('Çalışanların Eğitim Seviyesi')\n",
    "\n",
    "plt.xlabel('Eğitim Derecesi', loc='center', fontsize=24, fontname='Cambria')\n",
    "plt.ylabel('Değerler', loc='center', fontsize=24, fontname='Cambria')\n",
    "\n",
    "workersDegrees = np.array(['Bachelors', 'Masters', 'PHD'])\n",
    "values = df['Education'].value_counts()\n",
    "\n",
    "plt.bar(workersDegrees,\n",
    "        values,\n",
    "        color = ['lightblue', 'blue', 'darkblue'],\n",
    "        )\n",
    "plt.show()"
   ]
  },
  {
   "cell_type": "code",
   "execution_count": 402,
   "metadata": {},
   "outputs": [
    {
     "data": {
      "image/png": "[encoded data removed]",
      "text/plain": [
       "<Figure size 640x480 with 1 Axes>"
      ]
     },
     "metadata": {},
     "output_type": "display_data"
    }
   ],
   "source": [
    "plt.title('Çalışanların Cinsiyetlerinin Oranı')\n",
    "\n",
    "percentage = df['Gender'].value_counts().sort_values(ascending=False)\n",
    "genders = np.array(['Erkek', 'Kadın'])\n",
    "\n",
    "plt.pie(percentage,\n",
    "        labels=genders,\n",
    "        explode=[0, 0.1],\n",
    "        colors=['lightblue', 'pink'],\n",
    "        shadow=True,\n",
    "        autopct='%1.1f%%'\n",
    "        )\n",
    "plt.show()"
   ]
  },
  {
   "cell_type": "code",
   "execution_count": 403,
   "metadata": {},
   "outputs": [
    {
     "data": {
      "image/png": "[encoded data removed]",
      "text/plain": [
       "<Figure size 640x480 with 1 Axes>"
      ]
     },
     "metadata": {},
     "output_type": "display_data"
    }
   ],
   "source": [
    "plt.title('Yaş Dağılımı Histogramı')\n",
    "\n",
    "plt.xlabel('Yaş', fontsize=24, fontname='Cambria')\n",
    "plt.ylabel('Yaş Dağılımı', fontsize=24, fontname='Cambria')\n",
    "\n",
    "plt.hist(df['Age'], bins=20, edgecolor='black')\n",
    "plt.show()"
   ]
  },
  {
   "cell_type": "code",
   "execution_count": 404,
   "metadata": {},
   "outputs": [
    {
     "name": "stdout",
     "output_type": "stream",
     "text": [
      "<class 'pandas.core.frame.DataFrame'>\n",
      "RangeIndex: 4653 entries, 0 to 4652\n",
      "Data columns (total 8 columns):\n",
      " #   Column                     Non-Null Count  Dtype\n",
      "---  ------                     --------------  -----\n",
      " 0   Education                  4653 non-null   int64\n",
      " 1   JoiningYear                4653 non-null   int64\n",
      " 2   City                       4653 non-null   int64\n",
      " 3   PaymentTier                4653 non-null   int64\n",
      " 4   Age                        4653 non-null   int64\n",
      " 5   Gender                     4653 non-null   int64\n",
      " 6   EverBenched                4653 non-null   int64\n",
      " 7   ExperienceInCurrentDomain  4653 non-null   int64\n",
      "dtypes: int64(8)\n",
      "memory usage: 290.9 KB\n",
      "~~~~~~~~~~~~~~~~~~~~~~~~~~~~~~~~~~~~~~~~~~~~~~~~~~~~~~~~\n",
      "<class 'pandas.core.series.Series'>\n",
      "RangeIndex: 4653 entries, 0 to 4652\n",
      "Series name: LeaveOrNot\n",
      "Non-Null Count  Dtype\n",
      "--------------  -----\n",
      "4653 non-null   int64\n",
      "dtypes: int64(1)\n",
      "memory usage: 36.5 KB\n"
     ]
    }
   ],
   "source": [
    "xSample = df.iloc[:, 0:-1]\n",
    "ySample = df.LeaveOrNot\n",
    "\n",
    "xSample.info()\n",
    "print('~~~~~~~~~~~~~~~~~~~~~~~~~~~~~~~~~~~~~~~~~~~~~~~~~~~~~~~~')\n",
    "ySample.info()"
   ]
  },
  {
   "cell_type": "code",
   "execution_count": 405,
   "metadata": {},
   "outputs": [
    {
     "name": "stdout",
     "output_type": "stream",
     "text": [
      "      Education  JoiningYear  City  PaymentTier  Age  Gender  EverBenched  \\\n",
      "0             1         2017     1            3   34       1            1   \n",
      "1             1         2013     3            1   28       2            1   \n",
      "2             1         2014     2            3   38       2            1   \n",
      "3             2         2016     1            3   27       1            1   \n",
      "4             2         2017     3            3   24       1            2   \n",
      "...         ...          ...   ...          ...  ...     ...          ...   \n",
      "4648          1         2013     1            3   26       2            1   \n",
      "4649          2         2013     3            2   37       1            1   \n",
      "4650          2         2018     2            3   27       1            1   \n",
      "4651          1         2012     1            3   30       1            2   \n",
      "4652          1         2015     1            3   33       1            2   \n",
      "\n",
      "      ExperienceInCurrentDomain  \n",
      "0                             0  \n",
      "1                             3  \n",
      "2                             2  \n",
      "3                             5  \n",
      "4                             2  \n",
      "...                         ...  \n",
      "4648                          4  \n",
      "4649                          2  \n",
      "4650                          5  \n",
      "4651                          2  \n",
      "4652                          4  \n",
      "\n",
      "[4653 rows x 8 columns]\n"
     ]
    }
   ],
   "source": [
    "print(xSample)"
   ]
  },
  {
   "cell_type": "code",
   "execution_count": 406,
   "metadata": {},
   "outputs": [
    {
     "name": "stdout",
     "output_type": "stream",
     "text": [
      "0       0\n",
      "1       1\n",
      "2       0\n",
      "3       1\n",
      "4       1\n",
      "       ..\n",
      "4648    0\n",
      "4649    1\n",
      "4650    1\n",
      "4651    0\n",
      "4652    0\n",
      "Name: LeaveOrNot, Length: 4653, dtype: int64\n"
     ]
    }
   ],
   "source": [
    "print(ySample)"
   ]
  },
  {
   "cell_type": "code",
   "execution_count": 407,
   "metadata": {},
   "outputs": [
    {
     "name": "stdout",
     "output_type": "stream",
     "text": [
      "[0 1 0 ... 1 0 0]\n"
     ]
    }
   ],
   "source": [
    "from sklearn.preprocessing import LabelEncoder\n",
    "\n",
    "le = LabelEncoder()\n",
    "\n",
    "ySample = le.fit_transform(ySample)\n",
    "print(ySample)"
   ]
  },
  {
   "cell_type": "code",
   "execution_count": 408,
   "metadata": {},
   "outputs": [
    {
     "data": {
      "text/html": [
       "<div>\n",
       "<style scoped>\n",
       "    .dataframe tbody tr th:only-of-type {\n",
       "        vertical-align: middle;\n",
       "    }\n",
       "\n",
       "    .dataframe tbody tr th {\n",
       "        vertical-align: top;\n",
       "    }\n",
       "\n",
       "    .dataframe thead th {\n",
       "        text-align: right;\n",
       "    }\n",
       "</style>\n",
       "<table border=\"1\" class=\"dataframe\">\n",
       "  <thead>\n",
       "    <tr style=\"text-align: right;\">\n",
       "      <th></th>\n",
       "      <th>Education</th>\n",
       "      <th>JoiningYear</th>\n",
       "      <th>City</th>\n",
       "      <th>PaymentTier</th>\n",
       "      <th>Age</th>\n",
       "      <th>Gender</th>\n",
       "      <th>EverBenched</th>\n",
       "      <th>ExperienceInCurrentDomain</th>\n",
       "      <th>LeaveOrNot</th>\n",
       "    </tr>\n",
       "  </thead>\n",
       "  <tbody>\n",
       "    <tr>\n",
       "      <th>0</th>\n",
       "      <td>1</td>\n",
       "      <td>2017</td>\n",
       "      <td>1</td>\n",
       "      <td>3</td>\n",
       "      <td>34</td>\n",
       "      <td>1</td>\n",
       "      <td>1</td>\n",
       "      <td>0</td>\n",
       "      <td>0</td>\n",
       "    </tr>\n",
       "    <tr>\n",
       "      <th>1</th>\n",
       "      <td>1</td>\n",
       "      <td>2013</td>\n",
       "      <td>3</td>\n",
       "      <td>1</td>\n",
       "      <td>28</td>\n",
       "      <td>2</td>\n",
       "      <td>1</td>\n",
       "      <td>3</td>\n",
       "      <td>1</td>\n",
       "    </tr>\n",
       "    <tr>\n",
       "      <th>2</th>\n",
       "      <td>1</td>\n",
       "      <td>2014</td>\n",
       "      <td>2</td>\n",
       "      <td>3</td>\n",
       "      <td>38</td>\n",
       "      <td>2</td>\n",
       "      <td>1</td>\n",
       "      <td>2</td>\n",
       "      <td>0</td>\n",
       "    </tr>\n",
       "    <tr>\n",
       "      <th>3</th>\n",
       "      <td>2</td>\n",
       "      <td>2016</td>\n",
       "      <td>1</td>\n",
       "      <td>3</td>\n",
       "      <td>27</td>\n",
       "      <td>1</td>\n",
       "      <td>1</td>\n",
       "      <td>5</td>\n",
       "      <td>1</td>\n",
       "    </tr>\n",
       "    <tr>\n",
       "      <th>4</th>\n",
       "      <td>2</td>\n",
       "      <td>2017</td>\n",
       "      <td>3</td>\n",
       "      <td>3</td>\n",
       "      <td>24</td>\n",
       "      <td>1</td>\n",
       "      <td>2</td>\n",
       "      <td>2</td>\n",
       "      <td>1</td>\n",
       "    </tr>\n",
       "  </tbody>\n",
       "</table>\n",
       "</div>"
      ],
      "text/plain": [
       "   Education  JoiningYear  City  PaymentTier  Age  Gender  EverBenched  \\\n",
       "0          1         2017     1            3   34       1            1   \n",
       "1          1         2013     3            1   28       2            1   \n",
       "2          1         2014     2            3   38       2            1   \n",
       "3          2         2016     1            3   27       1            1   \n",
       "4          2         2017     3            3   24       1            2   \n",
       "\n",
       "   ExperienceInCurrentDomain  LeaveOrNot  \n",
       "0                          0           0  \n",
       "1                          3           1  \n",
       "2                          2           0  \n",
       "3                          5           1  \n",
       "4                          2           1  "
      ]
     },
     "execution_count": 408,
     "metadata": {},
     "output_type": "execute_result"
    }
   ],
   "source": [
    "df.head(5)"
   ]
  },
  {
   "cell_type": "code",
   "execution_count": 409,
   "metadata": {},
   "outputs": [
    {
     "name": "stdout",
     "output_type": "stream",
     "text": [
      "xSample: (4653, 8)\n",
      "ySample: (4653,)\n",
      "xTrain: (3722, 8)\n",
      "yTrain: (3722,)\n",
      "xTest: (931, 8)\n",
      "yTest: (931,)\n"
     ]
    }
   ],
   "source": [
    "from sklearn.model_selection import train_test_split\n",
    "\n",
    "xTrain, xTest, yTrain, yTest = train_test_split(xSample, ySample, test_size=0.2, random_state=42)\n",
    "\n",
    "print(f'xSample: {xSample.shape}')\n",
    "print(f'ySample: {ySample.shape}')\n",
    "print(f'xTrain: {xTrain.shape}')\n",
    "print(f'yTrain: {yTrain.shape}')\n",
    "print(f'xTest: {xTest.shape}')\n",
    "print(f'yTest: {yTest.shape}')"
   ]
  },
  {
   "cell_type": "code",
   "execution_count": 410,
   "metadata": {},
   "outputs": [
    {
     "name": "stdout",
     "output_type": "stream",
     "text": [
      "[[ 1.40859778 -1.10973993  0.25218129 ... -0.81567419 -0.33373122\n",
      "  -1.86154964]\n",
      " [-0.51043624 -1.64567506 -0.94199015 ... -0.81567419 -0.33373122\n",
      "   0.06130543]\n",
      " [ 1.40859778  1.03400058  1.44635272 ... -0.81567419 -0.33373122\n",
      "  -0.57964626]\n",
      " ...\n",
      " [-0.51043624  0.49806545 -0.94199015 ...  1.2259797  -0.33373122\n",
      "  -1.22059795]\n",
      " [-0.51043624 -0.03786968 -0.94199015 ... -0.81567419 -0.33373122\n",
      "  -1.22059795]\n",
      " [-0.51043624 -0.03786968 -0.94199015 ... -0.81567419 -0.33373122\n",
      "   1.34320881]]\n",
      "~~~~~~~~~~~~~~~~~~~~~~~~~~~~~~~~~~~~~~~~~~~~~~~~~~~~~~~~~~~~~~~~~\n",
      "[[-0.49695053  0.52257452 -0.94621747 ...  1.18299811 -0.35653702\n",
      "  -0.58779234]\n",
      " [-0.49695053 -1.09734848 -0.94621747 ...  1.18299811 -0.35653702\n",
      "   0.70285546]\n",
      " [-0.49695053  1.06254885  0.21749252 ...  1.18299811 -0.35653702\n",
      "   0.05753156]\n",
      " ...\n",
      " [-0.49695053  1.60252318  1.38120252 ... -0.84530989  2.80475786\n",
      "   0.70285546]\n",
      " [-0.49695053 -1.63732282 -0.94621747 ... -0.84530989 -0.35653702\n",
      "   0.70285546]\n",
      " [-0.49695053 -1.63732282 -0.94621747 ...  1.18299811 -0.35653702\n",
      "  -1.23311623]]\n"
     ]
    }
   ],
   "source": [
    "from sklearn.preprocessing import StandardScaler\n",
    "\n",
    "sc = StandardScaler()\n",
    "\n",
    "xTrain = sc.fit_transform(xTrain)\n",
    "xTest = sc.fit_transform(xTest)\n",
    "\n",
    "print(xTrain)\n",
    "print('~~~~~~~~~~~~~~~~~~~~~~~~~~~~~~~~~~~~~~~~~~~~~~~~~~~~~~~~~~~~~~~~~')\n",
    "print(xTest)"
   ]
  },
  {
   "cell_type": "markdown",
   "metadata": {},
   "source": [
    "## **K-NN**"
   ]
  },
  {
   "cell_type": "code",
   "execution_count": 369,
   "metadata": {},
   "outputs": [
    {
     "name": "stdout",
     "output_type": "stream",
     "text": [
      "              precision    recall  f1-score   support\n",
      "\n",
      "           0       0.83      0.94      0.88       610\n",
      "           1       0.84      0.64      0.73       321\n",
      "\n",
      "    accuracy                           0.83       931\n",
      "   macro avg       0.84      0.79      0.80       931\n",
      "weighted avg       0.83      0.83      0.83       931\n",
      "\n"
     ]
    },
    {
     "data": {
      "text/plain": [
       "<sklearn.metrics._plot.confusion_matrix.ConfusionMatrixDisplay at 0x27953aa35d0>"
      ]
     },
     "execution_count": 369,
     "metadata": {},
     "output_type": "execute_result"
    },
    {
     "data": {
      "image/png": "[encoded data removed]",
      "text/plain": [
       "<Figure size 640x480 with 2 Axes>"
      ]
     },
     "metadata": {},
     "output_type": "display_data"
    }
   ],
   "source": [
    "from sklearn.neighbors import KNeighborsClassifier\n",
    "from sklearn import metrics\n",
    "\n",
    "classifier = KNeighborsClassifier(n_neighbors=9, metric='minkowski', p=1)\n",
    "classifier.fit(xTrain, yTrain)\n",
    "\n",
    "yTestPred = classifier.predict(xTest)\n",
    "print(metrics.classification_report(yTest, yTestPred))\n",
    "\n",
    "cm = metrics.confusion_matrix(yTest, yTestPred, normalize='true').round(2)\n",
    "disp = metrics.ConfusionMatrixDisplay(confusion_matrix=cm)\n",
    "disp.plot(cmap=plt.cm.GnBu, values_format='g')"
   ]
  },
  {
   "cell_type": "markdown",
   "metadata": {},
   "source": [
    "## **Decision Tree**"
   ]
  },
  {
   "cell_type": "code",
   "execution_count": 370,
   "metadata": {},
   "outputs": [
    {
     "name": "stdout",
     "output_type": "stream",
     "text": [
      "              precision    recall  f1-score   support\n",
      "\n",
      "           0       0.82      0.87      0.85       610\n",
      "           1       0.73      0.65      0.69       321\n",
      "\n",
      "    accuracy                           0.79       931\n",
      "   macro avg       0.78      0.76      0.77       931\n",
      "weighted avg       0.79      0.79      0.79       931\n",
      "\n"
     ]
    },
    {
     "data": {
      "text/plain": [
       "<sklearn.metrics._plot.confusion_matrix.ConfusionMatrixDisplay at 0x27952705b10>"
      ]
     },
     "execution_count": 370,
     "metadata": {},
     "output_type": "execute_result"
    },
    {
     "data": {
      "image/png": "[encoded data removed]",
      "text/plain": [
       "<Figure size 640x480 with 2 Axes>"
      ]
     },
     "metadata": {},
     "output_type": "display_data"
    }
   ],
   "source": [
    "from sklearn.tree import DecisionTreeClassifier\n",
    "from sklearn import tree\n",
    "\n",
    "classifier = DecisionTreeClassifier(criterion='gini', splitter='best', random_state=42)\n",
    "classifier.fit(xTrain, yTrain)\n",
    "\n",
    "yTestPred = classifier.predict(xTest)\n",
    "print(metrics.classification_report(yTest, yTestPred))\n",
    "\n",
    "cm = metrics.confusion_matrix(yTest, yTestPred, normalize='true').round(2)\n",
    "disp = metrics.ConfusionMatrixDisplay(confusion_matrix=cm)\n",
    "disp.plot(cmap=plt.cm.GnBu, values_format='g')\n",
    "\n",
    "#tree.plot_tree(classifier)"
   ]
  },
  {
   "cell_type": "markdown",
   "metadata": {},
   "source": [
    "## **Random Forest**"
   ]
  },
  {
   "cell_type": "code",
   "execution_count": 371,
   "metadata": {},
   "outputs": [
    {
     "name": "stdout",
     "output_type": "stream",
     "text": [
      "              precision    recall  f1-score   support\n",
      "\n",
      "           0       0.84      0.98      0.90       610\n",
      "           1       0.94      0.64      0.76       321\n",
      "\n",
      "    accuracy                           0.86       931\n",
      "   macro avg       0.89      0.81      0.83       931\n",
      "weighted avg       0.87      0.86      0.85       931\n",
      "\n"
     ]
    },
    {
     "data": {
      "text/plain": [
       "<sklearn.metrics._plot.confusion_matrix.ConfusionMatrixDisplay at 0x279526f5690>"
      ]
     },
     "execution_count": 371,
     "metadata": {},
     "output_type": "execute_result"
    },
    {
     "data": {
      "image/png": "[encoded data removed]",
      "text/plain": [
       "<Figure size 640x480 with 2 Axes>"
      ]
     },
     "metadata": {},
     "output_type": "display_data"
    }
   ],
   "source": [
    "from sklearn.ensemble import RandomForestClassifier\n",
    "\n",
    "classifier = RandomForestClassifier(n_estimators=50, max_depth=11, random_state=42)\n",
    "classifier.fit(xTrain, yTrain)\n",
    "\n",
    "yTestPred = classifier.predict(xTest)\n",
    "print(metrics.classification_report(yTest, yTestPred))\n",
    "\n",
    "cm = metrics.confusion_matrix(yTest, yTestPred, normalize='true').round(2)\n",
    "disp = metrics.ConfusionMatrixDisplay(confusion_matrix=cm)\n",
    "disp.plot(cmap=plt.cm.GnBu, values_format='g')"
   ]
  },
  {
   "cell_type": "markdown",
   "metadata": {},
   "source": [
    "## **SVM**"
   ]
  },
  {
   "cell_type": "code",
   "execution_count": 412,
   "metadata": {},
   "outputs": [
    {
     "name": "stdout",
     "output_type": "stream",
     "text": [
      "              precision    recall  f1-score   support\n",
      "\n",
      "           0       0.85      0.97      0.91       610\n",
      "           1       0.93      0.67      0.78       321\n",
      "\n",
      "    accuracy                           0.87       931\n",
      "   macro avg       0.89      0.82      0.84       931\n",
      "weighted avg       0.87      0.87      0.86       931\n",
      "\n"
     ]
    },
    {
     "data": {
      "text/plain": [
       "<sklearn.metrics._plot.confusion_matrix.ConfusionMatrixDisplay at 0x2794d286490>"
      ]
     },
     "execution_count": 412,
     "metadata": {},
     "output_type": "execute_result"
    },
    {
     "data": {
      "image/png": "[encoded data removed]",
      "text/plain": [
       "<Figure size 640x480 with 2 Axes>"
      ]
     },
     "metadata": {},
     "output_type": "display_data"
    }
   ],
   "source": [
    "from enum import auto\n",
    "from sklearn.svm import SVC\n",
    "\n",
    "#c=15, kernel='rbf', gamma=0.1 -- 0.83 - 0.80\n",
    "\n",
    "classifier = SVC(C=17,\n",
    "                 kernel='rbf',\n",
    "                 gamma=\"auto\")\n",
    "\n",
    "classifier.fit(xTrain, yTrain)\n",
    "yTestPred = classifier.predict(xTest)\n",
    "print(metrics.classification_report(yTest, yTestPred))\n",
    "\n",
    "cm = metrics.confusion_matrix(yTest, yTestPred, normalize='true').round(2)\n",
    "disp = metrics.ConfusionMatrixDisplay(confusion_matrix=cm)\n",
    "disp.plot(cmap=plt.cm.GnBu, values_format='g')"
   ]
  },
  {
   "cell_type": "markdown",
   "metadata": {},
   "source": [
    "## **Naive Bayes**"
   ]
  },
  {
   "cell_type": "markdown",
   "metadata": {},
   "source": [
    "### **Bernoulli**"
   ]
  },
  {
   "cell_type": "code",
   "execution_count": 411,
   "metadata": {},
   "outputs": [
    {
     "name": "stdout",
     "output_type": "stream",
     "text": [
      "              precision    recall  f1-score   support\n",
      "\n",
      "           0       0.73      0.84      0.78       610\n",
      "           1       0.57      0.40      0.47       321\n",
      "\n",
      "    accuracy                           0.69       931\n",
      "   macro avg       0.65      0.62      0.63       931\n",
      "weighted avg       0.67      0.69      0.67       931\n",
      "\n"
     ]
    },
    {
     "data": {
      "image/png": "[encoded data removed]",
      "text/plain": [
       "<Figure size 640x480 with 2 Axes>"
      ]
     },
     "metadata": {},
     "output_type": "display_data"
    }
   ],
   "source": [
    "from sklearn.naive_bayes import BernoulliNB\n",
    "\n",
    "classifier = BernoulliNB()\n",
    "classifier.fit(xTrain, yTrain)\n",
    "yTestPred = classifier.predict(xTest)\n",
    "\n",
    "print(metrics.classification_report(yTest, yTestPred))\n",
    "cm = metrics.confusion_matrix(yTest,yTestPred,normalize=\"true\").round(2)\n",
    "disp = metrics.ConfusionMatrixDisplay(confusion_matrix=cm)\n",
    "disp = disp.plot(cmap=plt.cm.GnBu,values_format=\"g\")"
   ]
  },
  {
   "cell_type": "markdown",
   "metadata": {},
   "source": [
    "### **Gaussian**"
   ]
  },
  {
   "cell_type": "code",
   "execution_count": 374,
   "metadata": {},
   "outputs": [
    {
     "name": "stdout",
     "output_type": "stream",
     "text": [
      "              precision    recall  f1-score   support\n",
      "\n",
      "           0       0.76      0.76      0.76       610\n",
      "           1       0.54      0.53      0.54       321\n",
      "\n",
      "    accuracy                           0.68       931\n",
      "   macro avg       0.65      0.65      0.65       931\n",
      "weighted avg       0.68      0.68      0.68       931\n",
      "\n"
     ]
    },
    {
     "data": {
      "image/png": "[encoded data removed]",
      "text/plain": [
       "<Figure size 640x480 with 2 Axes>"
      ]
     },
     "metadata": {},
     "output_type": "display_data"
    }
   ],
   "source": [
    "from sklearn.naive_bayes import GaussianNB\n",
    "\n",
    "classifer = GaussianNB()\n",
    "classifer.fit(xTrain,yTrain)\n",
    "yTestPred =classifer.predict(xTest)\n",
    "\n",
    "print(metrics.classification_report(yTest,yTestPred))\n",
    "cm = metrics.confusion_matrix(yTest,yTestPred,normalize=\"true\").round(2)\n",
    "disp = metrics.ConfusionMatrixDisplay(confusion_matrix=cm)\n",
    "disp = disp.plot(cmap=plt.cm.GnBu,values_format=\"g\")"
   ]
  },
  {
   "cell_type": "markdown",
   "metadata": {},
   "source": [
    "### **Multinominal**"
   ]
  },
  {
   "cell_type": "code",
   "execution_count": 393,
   "metadata": {},
   "outputs": [
    {
     "name": "stdout",
     "output_type": "stream",
     "text": [
      "[[9.93429333e-04 9.99886623e-01 9.93429333e-04 ... 4.96714666e-04\n",
      "  4.96714666e-04 0.00000000e+00]\n",
      " [4.96978179e-04 9.99920096e-01 4.96978179e-04 ... 4.96978179e-04\n",
      "  4.96978179e-04 1.49093454e-03]\n",
      " [9.91466366e-04 9.99893830e-01 1.48719955e-03 ... 4.95733183e-04\n",
      "  4.95733183e-04 9.91466366e-04]\n",
      " ...\n",
      " [4.95937918e-04 9.99810843e-01 4.95937918e-04 ... 9.91875836e-04\n",
      "  4.95937918e-04 4.95937918e-04]\n",
      " [4.96174359e-04 9.99791333e-01 4.96174359e-04 ... 4.96174359e-04\n",
      "  4.96174359e-04 4.96174359e-04]\n",
      " [4.96231047e-04 9.99905560e-01 4.96231047e-04 ... 4.96231047e-04\n",
      "  4.96231047e-04 2.48115524e-03]]\n",
      "~~~~~~~~~~~~~~~~~~~~~~~~~~~~~~~~~~~~~~~~~~~~~~~~~~~~~~~~~~~~~~~~~\n",
      "[[4.95995380e-04 9.99926686e-01 4.95995380e-04 ... 9.91990760e-04\n",
      "  4.95995380e-04 9.91990760e-04]\n",
      " [4.96727596e-04 9.99912651e-01 4.96727596e-04 ... 9.93455192e-04\n",
      "  4.96727596e-04 1.98691038e-03]\n",
      " [4.95746341e-04 9.99920369e-01 9.91492681e-04 ... 9.91492681e-04\n",
      "  4.95746341e-04 1.48723902e-03]\n",
      " ...\n",
      " [4.95496581e-04 9.99912101e-01 1.48648974e-03 ... 4.95496581e-04\n",
      "  9.90993163e-04 1.98198633e-03]\n",
      " [4.96932094e-04 9.99827373e-01 4.96932094e-04 ... 4.96932094e-04\n",
      "  4.96932094e-04 1.98772838e-03]\n",
      " [4.96968728e-04 9.99901080e-01 4.96968728e-04 ... 9.93937456e-04\n",
      "  4.96968728e-04 4.96968728e-04]]\n",
      "0.0 0.999939169165027 0.0 0.9999388021134985\n"
     ]
    }
   ],
   "source": [
    "from sklearn.preprocessing import Normalizer, StandardScaler\n",
    "\n",
    "nr = Normalizer()\n",
    "\n",
    "xTrain = nr.fit_transform(xTrain)\n",
    "xTest = nr.fit_transform(xTest)\n",
    "\n",
    "print(xTrain)\n",
    "print('~~~~~~~~~~~~~~~~~~~~~~~~~~~~~~~~~~~~~~~~~~~~~~~~~~~~~~~~~~~~~~~~~')\n",
    "print(xTest)\n",
    "\n",
    "print(np.min(xTrain),\n",
    "np.max(xTrain),\n",
    "np.min(xTest),\n",
    "np.max(xTest))\n",
    "\n",
    "#, max(xTest), min(xTrain), max(xTrain)"
   ]
  },
  {
   "cell_type": "code",
   "execution_count": 394,
   "metadata": {},
   "outputs": [
    {
     "name": "stdout",
     "output_type": "stream",
     "text": [
      "              precision    recall  f1-score   support\n",
      "\n",
      "           0       0.66      1.00      0.79       610\n",
      "           1       0.00      0.00      0.00       321\n",
      "\n",
      "    accuracy                           0.66       931\n",
      "   macro avg       0.33      0.50      0.40       931\n",
      "weighted avg       0.43      0.66      0.52       931\n",
      "\n"
     ]
    },
    {
     "name": "stderr",
     "output_type": "stream",
     "text": [
      "c:\\Users\\koray\\anaconda3\\envs\\ai\\Lib\\site-packages\\sklearn\\metrics\\_classification.py:1344: UndefinedMetricWarning: Precision and F-score are ill-defined and being set to 0.0 in labels with no predicted samples. Use `zero_division` parameter to control this behavior.\n",
      "  _warn_prf(average, modifier, msg_start, len(result))\n",
      "c:\\Users\\koray\\anaconda3\\envs\\ai\\Lib\\site-packages\\sklearn\\metrics\\_classification.py:1344: UndefinedMetricWarning: Precision and F-score are ill-defined and being set to 0.0 in labels with no predicted samples. Use `zero_division` parameter to control this behavior.\n",
      "  _warn_prf(average, modifier, msg_start, len(result))\n",
      "c:\\Users\\koray\\anaconda3\\envs\\ai\\Lib\\site-packages\\sklearn\\metrics\\_classification.py:1344: UndefinedMetricWarning: Precision and F-score are ill-defined and being set to 0.0 in labels with no predicted samples. Use `zero_division` parameter to control this behavior.\n",
      "  _warn_prf(average, modifier, msg_start, len(result))\n"
     ]
    },
    {
     "data": {
      "image/png": "[encoded data removed]",
      "text/plain": [
       "<Figure size 640x480 with 2 Axes>"
      ]
     },
     "metadata": {},
     "output_type": "display_data"
    }
   ],
   "source": [
    "from sklearn.naive_bayes import MultinomialNB\n",
    "\n",
    "classifer = MultinomialNB()\n",
    "classifer.fit(xTrain,yTrain)\n",
    "yTestPred =classifer.predict(xTest)\n",
    "\n",
    "print(metrics.classification_report(yTest,yTestPred))\n",
    "cm = metrics.confusion_matrix(yTest,yTestPred,normalize=\"true\").round(2)\n",
    "disp = metrics.ConfusionMatrixDisplay(confusion_matrix=cm)\n",
    "disp = disp.plot(cmap=plt.cm.GnBu,values_format=\"g\")"
   ]
  }
 ],
 "metadata": {
  "kernelspec": {
   "display_name": "ai",
   "language": "python",
   "name": "python3"
  },
  "language_info": {
   "codemirror_mode": {
    "name": "ipython",
    "version": 3
   },
   "file_extension": ".py",
   "mimetype": "text/x-python",
   "name": "python",
   "nbconvert_exporter": "python",
   "pygments_lexer": "ipython3",
   "version": "3.11.4"
  },
  "orig_nbformat": 4
 },
 "nbformat": 4,
 "nbformat_minor": 2
}
